{
  "nbformat": 4,
  "nbformat_minor": 0,
  "metadata": {
    "colab": {
      "name": "examples.ipynb",
      "provenance": []
    },
    "kernelspec": {
      "name": "python3",
      "display_name": "Python 3"
    },
    "language_info": {
      "name": "python"
    }
  },
  "cells": [
    {
      "cell_type": "code",
      "metadata": {
        "colab": {
          "base_uri": "https://localhost:8080/"
        },
        "id": "P0tvmmwYzKvw",
        "outputId": "8536d6a3-89ef-4697-8f06-42964410da85"
      },
      "source": [
        "!git clone https://github.com/HylisWilk/madochan"
      ],
      "execution_count": 1,
      "outputs": [
        {
          "output_type": "stream",
          "text": [
            "Cloning into 'madochan'...\n",
            "remote: Enumerating objects: 23, done.\u001b[K\n",
            "remote: Counting objects: 100% (23/23), done.\u001b[K\n",
            "remote: Compressing objects: 100% (20/20), done.\u001b[K\n",
            "remote: Total 23 (delta 3), reused 0 (delta 0), pack-reused 0\u001b[K\n",
            "Unpacking objects: 100% (23/23), done.\n"
          ],
          "name": "stdout"
        }
      ]
    },
    {
      "cell_type": "markdown",
      "metadata": {
        "id": "v3GxoCW32fDD"
      },
      "source": [
        "Let's instantiate the word generator by calling the Madochan class.\n",
        "The first time we do this, it will download stopwords from NLTK if we don't have them yet."
      ]
    },
    {
      "cell_type": "code",
      "metadata": {
        "colab": {
          "base_uri": "https://localhost:8080/"
        },
        "id": "N-h6_S2kzziU",
        "outputId": "9ed0ffc5-105f-48f5-b436-099b64944966"
      },
      "source": [
        "from madochan.generator import Madochan\n",
        "import numpy as np\n",
        "word_gen = Madochan()"
      ],
      "execution_count": 2,
      "outputs": [
        {
          "output_type": "stream",
          "text": [
            "[nltk_data] Downloading package stopwords to /root/nltk_data...\n",
            "[nltk_data]   Unzipping corpora/stopwords.zip.\n"
          ],
          "name": "stdout"
        }
      ]
    },
    {
      "cell_type": "markdown",
      "metadata": {
        "id": "-WewRBCU2Rhk"
      },
      "source": [
        "We can now create a word by calling the create_word function."
      ]
    },
    {
      "cell_type": "code",
      "metadata": {
        "colab": {
          "base_uri": "https://localhost:8080/"
        },
        "id": "yORnL3zr0cd8",
        "outputId": "3f429174-7b81-4d2b-d868-16679499b9c5"
      },
      "source": [
        "definition = \"The quality of being magnanimous but materialistic, while eating grapes.\"\n",
        "new_word = word_gen.create_word(definition)\n",
        "\n",
        "print(new_word)"
      ],
      "execution_count": 3,
      "outputs": [
        {
          "output_type": "stream",
          "text": [
            "partiness\n",
            "\n"
          ],
          "name": "stdout"
        }
      ]
    },
    {
      "cell_type": "markdown",
      "metadata": {
        "id": "hZwFw86b2xJT"
      },
      "source": [
        "We can use the \"weirdness\" parameter (int between 1 and 29) to make the created word increasingly more varied.\n",
        "(In practice, anything above 6 will almost surely return gibberish)."
      ]
    },
    {
      "cell_type": "code",
      "metadata": {
        "colab": {
          "base_uri": "https://localhost:8080/"
        },
        "id": "o1qTLiYL2B_j",
        "outputId": "d150770a-99bb-4c37-f691-58070a539051"
      },
      "source": [
        "word_gen.weirdness = 2\n",
        "new_word = word_gen.create_word(definition)\n",
        "\n",
        "print(new_word)"
      ],
      "execution_count": 4,
      "outputs": [
        {
          "output_type": "stream",
          "text": [
            "geathic\n",
            "\n"
          ],
          "name": "stdout"
        }
      ]
    },
    {
      "cell_type": "markdown",
      "metadata": {
        "id": "4ZnsssT63xSL"
      },
      "source": [
        "We can also try loading a different model from the /models folder."
      ]
    },
    {
      "cell_type": "code",
      "metadata": {
        "colab": {
          "base_uri": "https://localhost:8080/"
        },
        "id": "OwN7K2WS3Krb",
        "outputId": "4885b335-098c-4615-9261-b114393eb099"
      },
      "source": [
        "import tensorflow as tf\n",
        "new_model = tf.keras.models.load_model('./madochan/models/100epochs800lenhashingbidirectional.h5', compile = False)\n",
        "word_gen.change_model(new_model)\n",
        "\n",
        "word_gen.weirdness = 1\n",
        "new_word = word_gen.create_word(definition)\n",
        "\n",
        "print(new_word)"
      ],
      "execution_count": 5,
      "outputs": [
        {
          "output_type": "stream",
          "text": [
            "prosinessive\n",
            "\n"
          ],
          "name": "stdout"
        }
      ]
    },
    {
      "cell_type": "markdown",
      "metadata": {
        "id": "2x2u4CGz4ooA"
      },
      "source": [
        "Have fun making words!"
      ]
    }
  ]
}